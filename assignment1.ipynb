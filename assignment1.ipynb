{
 "cells": [
  {
   "cell_type": "code",
   "execution_count": 1,
   "id": "ea0d2daa-c6b0-4a2b-91fe-d17f8dd9d10d",
   "metadata": {},
   "outputs": [],
   "source": [
    "#creating variables \n",
    "string = \"hello world\"\n",
    "list = [12,23,45,\"shubham\",3+4j]\n",
    "float =56.32\n",
    "tuple =(12,34,2,3,56,78)"
   ]
  },
  {
   "cell_type": "code",
   "execution_count": 2,
   "id": "729e3446-9736-4007-8e43-1a7eaff21d45",
   "metadata": {},
   "outputs": [
    {
     "ename": "SyntaxError",
     "evalue": "invalid syntax (2295644032.py, line 1)",
     "output_type": "error",
     "traceback": [
      "\u001b[0;36m  Cell \u001b[0;32mIn[2], line 1\u001b[0;36m\u001b[0m\n\u001b[0;31m    given are some following variables containing data\u001b[0m\n\u001b[0m          ^\u001b[0m\n\u001b[0;31mSyntaxError\u001b[0m\u001b[0;31m:\u001b[0m invalid syntax\n"
     ]
    }
   ],
   "source": [
    "#given are some following variables containing data\n",
    "var1 = string\n",
    "var2 = string\n",
    "var3 = list\n",
    "var4 = integer"
   ]
  },
  {
   "cell_type": "code",
   "execution_count": 3,
   "id": "a309e7d7-a680-496b-a26f-1ed3cee96b33",
   "metadata": {},
   "outputs": [],
   "source": [
    "3\n",
    "#division (/):\n",
    "#The division operator is use to perform division between two number \n",
    "#Example:\n",
    "a= 34/4"
   ]
  },
  {
   "cell_type": "code",
   "execution_count": 4,
   "id": "4fd91b60-931e-4f24-aa35-a59ec02f24ba",
   "metadata": {},
   "outputs": [
    {
     "data": {
      "text/plain": [
       "8.5"
      ]
     },
     "execution_count": 4,
     "metadata": {},
     "output_type": "execute_result"
    }
   ],
   "source": [
    "a"
   ]
  },
  {
   "cell_type": "code",
   "execution_count": 5,
   "id": "5f440460-347c-4a9d-9756-3ddef9562bc9",
   "metadata": {},
   "outputs": [],
   "source": [
    "#(ii) Modulus %:this operator return the remainder after the divisiono of one number by another \n",
    "#example:\n",
    "a = 9%4"
   ]
  },
  {
   "cell_type": "code",
   "execution_count": 6,
   "id": "d9e93aaa-af52-4784-8eba-7e34227da90b",
   "metadata": {},
   "outputs": [
    {
     "data": {
      "text/plain": [
       "1"
      ]
     },
     "execution_count": 6,
     "metadata": {},
     "output_type": "execute_result"
    }
   ],
   "source": [
    "a"
   ]
  },
  {
   "cell_type": "code",
   "execution_count": 7,
   "id": "6ade4744-3dce-492f-95ea-4df2703690da",
   "metadata": {},
   "outputs": [
    {
     "name": "stdout",
     "output_type": "stream",
     "text": [
      "5\n"
     ]
    },
    {
     "data": {
      "text/plain": [
       "32768"
      ]
     },
     "execution_count": 7,
     "metadata": {},
     "output_type": "execute_result"
    }
   ],
   "source": [
    "#(iii) Floor division // :the floor division operators performs division between two numbers and rounds the results down to the nearest integer.\n",
    "result=10//2\n",
    "print(result)\n",
    "\n",
    "\n",
    "#(iv) Exponentiation ** use for finding power of number \n",
    "#example\n",
    "32**3"
   ]
  },
  {
   "cell_type": "code",
   "execution_count": 1,
   "id": "f67e239c-ffdd-4ad3-9976-15ad6ae13b51",
   "metadata": {},
   "outputs": [
    {
     "name": "stdout",
     "output_type": "stream",
     "text": [
      "10\n",
      "<class 'int'>\n",
      "hello world\n",
      "<class 'str'>\n",
      "(3+4j)\n",
      "<class 'complex'>\n",
      "32.23\n",
      "<class 'float'>\n",
      "True\n",
      "<class 'bool'>\n",
      "123456\n",
      "<class 'int'>\n",
      "{'name': 'rahul', 'age': 21}\n",
      "<class 'dict'>\n",
      "123\n",
      "<class 'int'>\n",
      "{'c', 'a', 'b'}\n",
      "<class 'set'>\n"
     ]
    }
   ],
   "source": [
    "#Q4\n",
    "l=[10,\"hello world\",3+4j,32.23,True,123456,{\"name\":\"rahul\",\"age\":21},(123),{\"a\",\"b\",\"c\"}]\n",
    "for i in l:\n",
    "    print(i)\n",
    "    print (type(i))"
   ]
  },
  {
   "cell_type": "code",
   "execution_count": 13,
   "id": "9ffbddcb-80d6-4ce0-9a72-6a3209b97fe5",
   "metadata": {},
   "outputs": [
    {
     "name": "stdout",
     "output_type": "stream",
     "text": [
      "{element} is divisible by 3.\n",
      "{element} is divisible by 3.\n",
      "{element} is divisible by 3.\n",
      "{element} is divisible by 3.\n",
      "{element} is divisible by 3.\n",
      "{element} is divisible by 3.\n",
      "{element} is divisible by 3.\n",
      "{element} is divisible by 3.\n",
      "{element} is divisible by 3.\n",
      "{element} is divisible by 3.\n",
      "{element} is divisible by 3.\n",
      "{element} is divisible by 3.\n",
      "{element} is divisible by 3.\n",
      "{element} is divisible by 3.\n",
      "{element} is not divisible by 3.\n"
     ]
    }
   ],
   "source": [
    "#Q6\n",
    "l=[11,24,39,56,51,66,72,83,97,100,108,112,120,135,147,155,162,178,186,191,198,205,213,229,234]\n",
    "for element in l:\n",
    "    if element %3==0:\n",
    "        print(\"{element} is divisible by 3.\")\n",
    "else:\n",
    "            print(\"{element} is not divisible by 3.\")"
   ]
  },
  {
   "cell_type": "code",
   "execution_count": 16,
   "id": "61bed811-0322-4e26-8e26-79129d25daa3",
   "metadata": {},
   "outputs": [
    {
     "name": "stdout",
     "output_type": "stream",
     "text": [
      "[1, 4, 'Rahul']\n"
     ]
    }
   ],
   "source": [
    "#Q7 Mutable data type are objects whose content can be modified after they are created.This means you can remove,add\n",
    "#,change elements without creating a new object.\n",
    "#example of mutable data types are: List,dictionaries,Sets.\n",
    "list=[1,4,\"Rahul\",32]\n",
    "print(list)"
   ]
  },
  {
   "cell_type": "code",
   "execution_count": 17,
   "id": "19387451-eff7-4299-8f65-fbbc9396d3ef",
   "metadata": {},
   "outputs": [
    {
     "name": "stdout",
     "output_type": "stream",
     "text": [
      "[1, 4, 'shubham']\n"
     ]
    }
   ],
   "source": [
    "#chage in list\n",
    "list[2]=\"shubham\"\n",
    "print(list)"
   ]
  },
  {
   "cell_type": "code",
   "execution_count": 20,
   "id": "1ccefea9-874d-4cec-b713-34878024db2a",
   "metadata": {},
   "outputs": [
    {
     "name": "stdout",
     "output_type": "stream",
     "text": [
      "hello world\n"
     ]
    }
   ],
   "source": [
    "#Immutable data type, on the other hand are objects whose content cannot be changed after they are created.\n",
    "# once an immutable object is created,its value cannot be modified. any operation that seems to modified the object creates a new \n",
    "# objects instead.example:- integer,floats,string,tuple\n",
    "str=\"hello world\"\n",
    "print(str)"
   ]
  },
  {
   "cell_type": "code",
   "execution_count": 23,
   "id": "3a540cf7-3c97-44ec-8050-62c57b579cad",
   "metadata": {},
   "outputs": [
    {
     "ename": "TypeError",
     "evalue": "'str' object does not support item assignment",
     "output_type": "error",
     "traceback": [
      "\u001b[0;31m---------------------------------------------------------------------------\u001b[0m",
      "\u001b[0;31mTypeError\u001b[0m                                 Traceback (most recent call last)",
      "Cell \u001b[0;32mIn[23], line 1\u001b[0m\n\u001b[0;32m----> 1\u001b[0m \u001b[38;5;28;43mstr\u001b[39;49m\u001b[43m[\u001b[49m\u001b[38;5;241;43m2\u001b[39;49m\u001b[43m]\u001b[49m\u001b[38;5;241m=\u001b[39m\u001b[38;5;124m\"\u001b[39m\u001b[38;5;124msh\u001b[39m\u001b[38;5;124m\"\u001b[39m\n\u001b[1;32m      2\u001b[0m \u001b[38;5;28mprint\u001b[39m(\u001b[38;5;28mstr\u001b[39m)\n",
      "\u001b[0;31mTypeError\u001b[0m: 'str' object does not support item assignment"
     ]
    }
   ],
   "source": [
    "str[2]=\"sh\"\n",
    "print(str)"
   ]
  },
  {
   "cell_type": "code",
   "execution_count": null,
   "id": "b3cbdcd2-27f5-46a1-aabe-bf013f4c8e3a",
   "metadata": {},
   "outputs": [],
   "source": [
    "#Q5 \n",
    "def division(a,b):\n",
    "    \n",
    "    count=0\n",
    "    while a>=b and a%b==0:\n",
    "        a//=b\n",
    "        count +=1\n",
    "        return count\n",
    "    first=502030\n",
    "    second=2\n",
    "    result=division(first,second)\n",
    "if result>0:\n",
    "    print(\"first is divisible by second\")\n",
    "else:\n",
    "        print(\"first is not divisible by second\")"
   ]
  },
  {
   "cell_type": "code",
   "execution_count": null,
   "id": "9a1e4fa8-9e91-44f2-8624-08f8390a1fd1",
   "metadata": {},
   "outputs": [],
   "source": [
    "|"
   ]
  },
  {
   "cell_type": "code",
   "execution_count": null,
   "id": "73f5c4fa-8345-498f-baa9-af030f8c8a05",
   "metadata": {},
   "outputs": [],
   "source": []
  }
 ],
 "metadata": {
  "kernelspec": {
   "display_name": "Python 3 (ipykernel)",
   "language": "python",
   "name": "python3"
  },
  "language_info": {
   "codemirror_mode": {
    "name": "ipython",
    "version": 3
   },
   "file_extension": ".py",
   "mimetype": "text/x-python",
   "name": "python",
   "nbconvert_exporter": "python",
   "pygments_lexer": "ipython3",
   "version": "3.10.8"
  }
 },
 "nbformat": 4,
 "nbformat_minor": 5
}
